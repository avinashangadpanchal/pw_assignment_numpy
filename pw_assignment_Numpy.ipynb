{
  "nbformat": 4,
  "nbformat_minor": 0,
  "metadata": {
    "colab": {
      "provenance": []
    },
    "kernelspec": {
      "name": "python3",
      "display_name": "Python 3"
    },
    "language_info": {
      "name": "python"
    }
  },
  "cells": [
    {
      "cell_type": "code",
      "execution_count": 1,
      "metadata": {
        "colab": {
          "base_uri": "https://localhost:8080/"
        },
        "id": "2v6NLEqtFeWZ",
        "outputId": "48963a5c-e08f-48e0-894d-a6d758197ee4"
      },
      "outputs": [
        {
          "output_type": "stream",
          "name": "stdout",
          "text": [
            "[1 2 3 4]\n",
            "2.5\n"
          ]
        }
      ],
      "source": [
        "# prompt: 1. What is a Python library? Why do we use Python libraries?\n",
        "\n",
        "# What is a Python Library?\n",
        "# A Python library is a collection of pre-written code that you can import into your Python programs\n",
        "# to reuse functions, classes, and variables without having to write them from scratch.\n",
        "# Libraries are typically used to simplify complex tasks, provide reusable functionality, and accelerate development.\n",
        "\n",
        "# Python libraries can range from general-purpose modules (like math and datetime) to specialized\n",
        "# libraries designed for tasks such as data analysis (like NumPy and pandas), web development (like Django and Flask),\n",
        "# or machine learning (like TensorFlow and scikit-learn).\n",
        "\n",
        "\n",
        "# Why Do We Use Python Libraries?\n",
        "# Reusability: Libraries provide reusable code that you can leverage across different projects, saving time and effort.\n",
        "# Simplification: Libraries abstract complex tasks into simpler functions, making it easier to perform tasks without understanding all underlying details.\n",
        "# Efficiency: Libraries often come with optimized code that performs tasks more efficiently than custom implementations.\n",
        "# Community Support: Many libraries are maintained by a community of developers, ensuring regular updates, bug fixes, and new features.\n",
        "# Focus on Core Logic: By using libraries, you can focus more on solving the specific problem at hand rather than implementing standard functionality.\n",
        "\n",
        "\n",
        "\n",
        "\n",
        "\n",
        "import numpy as np\n",
        "\n",
        "# Create an array\n",
        "arr = np.array([1, 2, 3, 4])\n",
        "print(arr)  # Output: [1 2 3 4]\n",
        "\n",
        "# Calculate the mean of the array\n",
        "mean = np.mean(arr)\n",
        "print(mean)  # Output: 2.5\n"
      ]
    },
    {
      "cell_type": "code",
      "source": [
        "# Question: 2. What is the difference between Numpy array and List?\n",
        "\n",
        "\n",
        "# Differences Between NumPy Array and Python List:\n",
        "\n",
        "# Data Type Consistency:\n",
        "# NumPy Array: All elements must be of the same type.\n",
        "# Python List: Can hold elements of different types.\n",
        "\n",
        "# Performance:\n",
        "# NumPy Array: Faster and more memory-efficient due to contiguous memory allocation.\n",
        "# Python List: Slower and less memory-efficient.\n",
        "\n",
        "# Functionality:\n",
        "# NumPy Array: Supports advanced mathematical operations directly.\n",
        "# Python List: Requires loops or comprehensions for similar tasks.\n",
        "\n",
        "# Dimensionality:\n",
        "# NumPy Array: Easily handles multi-dimensional arrays.\n",
        "# Python List: Can nest lists but is less efficient for multi-dimensional data.\n",
        "\n",
        "# Memory Consumption:\n",
        "# NumPy Array: Uses less memory.\n",
        "# Python List: Consumes more memory due to overhead and diverse types.\n",
        "\n",
        "\n",
        "\n",
        "\n",
        "#Example\n",
        "# List\n",
        "my_list = [1, 2, 3, 'apple', True]\n",
        "print(my_list)\n",
        "\n",
        "# Numpy array\n",
        "import numpy as np\n",
        "my_array = np.array([1, 2, 3, 4, 5])\n",
        "print(my_array)\n"
      ],
      "metadata": {
        "colab": {
          "base_uri": "https://localhost:8080/"
        },
        "id": "yGQ66lPDFoye",
        "outputId": "0adc904a-3bca-42aa-8afa-929623102dbc"
      },
      "execution_count": 2,
      "outputs": [
        {
          "output_type": "stream",
          "name": "stdout",
          "text": [
            "[1, 2, 3, 'apple', True]\n",
            "[1 2 3 4 5]\n"
          ]
        }
      ]
    },
    {
      "cell_type": "code",
      "source": [
        "# Question: 3. Find the shape, size and dimension of the following array?  [[1, 2, 3, 4]  [5, 6, 7, 8],  [9, 10, 11, 12]]\n",
        "\n",
        "import numpy as np\n",
        "\n",
        "arr = np.array([[1, 2, 3, 4], [5, 6, 7, 8], [9, 10, 11, 12]])\n",
        "\n",
        "print(\"Shape:\", arr.shape)\n",
        "print(\"Size:\", arr.size)\n",
        "print(\"Dimension:\", arr.ndim)\n"
      ],
      "metadata": {
        "colab": {
          "base_uri": "https://localhost:8080/"
        },
        "id": "aBIXPAuJFuqW",
        "outputId": "7c593923-6aa3-4bca-d75a-6b41b2574711"
      },
      "execution_count": 3,
      "outputs": [
        {
          "output_type": "stream",
          "name": "stdout",
          "text": [
            "Shape: (3, 4)\n",
            "Size: 12\n",
            "Dimension: 2\n"
          ]
        }
      ]
    },
    {
      "cell_type": "code",
      "source": [
        "# Question: 4. Write python code to access the first row of the following array?  [[1, 2, 3, 4]  [5, 6, 7, 8],  [9, 10, 11, 12]]\n",
        "\n",
        "arr = np.array([[1, 2, 3, 4], [5, 6, 7, 8], [9, 10, 11, 12]])\n",
        "print(arr[0])\n"
      ],
      "metadata": {
        "colab": {
          "base_uri": "https://localhost:8080/"
        },
        "id": "HU13CZB4F0Kc",
        "outputId": "cddc1a20-0872-4071-e0e9-d4145c5755a6"
      },
      "execution_count": 5,
      "outputs": [
        {
          "output_type": "stream",
          "name": "stdout",
          "text": [
            "[1 2 3 4]\n"
          ]
        }
      ]
    },
    {
      "cell_type": "code",
      "source": [
        "# Question: 5. How do you access the element at the third row and fourth column from the given numpy array?  [[1, 2, 3, 4]  [5, 6, 7, 8],  [9, 10, 11, 12]]\n",
        "\n",
        "print(arr[2,3])\n"
      ],
      "metadata": {
        "colab": {
          "base_uri": "https://localhost:8080/"
        },
        "id": "X79Vw24hGGpr",
        "outputId": "ff0d74f2-aac5-4e6f-9789-7b4ec6357de2"
      },
      "execution_count": 6,
      "outputs": [
        {
          "output_type": "stream",
          "name": "stdout",
          "text": [
            "12\n"
          ]
        }
      ]
    },
    {
      "cell_type": "code",
      "source": [
        "# Question: 6. Write code to extract all odd-indexed elements from the given numpy array?  [[1, 2, 3, 4]  [5, 6, 7, 8],  [9, 10, 11, 12]]\n",
        "\n",
        "print(arr[:, 1::2])\n"
      ],
      "metadata": {
        "colab": {
          "base_uri": "https://localhost:8080/"
        },
        "id": "tGxKiiAoGGsb",
        "outputId": "29d03137-40c7-421f-b2cd-69b0366ba696"
      },
      "execution_count": 7,
      "outputs": [
        {
          "output_type": "stream",
          "name": "stdout",
          "text": [
            "[[ 2  4]\n",
            " [ 6  8]\n",
            " [10 12]]\n"
          ]
        }
      ]
    },
    {
      "cell_type": "code",
      "source": [
        "# Question: 7. How can you generate a random 3x3 matrix with values between 0 and 1?\n",
        "\n",
        "random_matrix = np.random.rand(3, 3)\n",
        "print(random_matrix)\n"
      ],
      "metadata": {
        "colab": {
          "base_uri": "https://localhost:8080/"
        },
        "id": "bmihcmKzGGu9",
        "outputId": "806d3500-fb1d-4438-b096-587388f700c8"
      },
      "execution_count": 9,
      "outputs": [
        {
          "output_type": "stream",
          "name": "stdout",
          "text": [
            "[[0.59266671 0.33949863 0.37875325]\n",
            " [0.03987914 0.19675494 0.78189966]\n",
            " [0.25671121 0.98231109 0.09987611]]\n"
          ]
        }
      ]
    },
    {
      "cell_type": "code",
      "source": [
        "# Question: 8. Describe the difference between np.random.rand and np.random.randn?\n",
        "\n",
        "# np.random.rand generates random numbers from a uniform distribution between 0 and 1.\n",
        "uniform_random = np.random.rand(3, 3)\n",
        "print(\"Uniform Random Matrix:\")\n",
        "print(uniform_random)\n",
        "\n",
        "# np.random.randn generates random numbers from a standard normal distribution (mean 0, variance 1).\n",
        "normal_random = np.random.randn(3, 3)\n",
        "print(\"\\nNormal Random Matrix:\")\n",
        "print(normal_random)\n"
      ],
      "metadata": {
        "colab": {
          "base_uri": "https://localhost:8080/"
        },
        "id": "YpyrZgM5Kp0Z",
        "outputId": "18932d79-4470-4918-a06f-532fc6078b1b"
      },
      "execution_count": 10,
      "outputs": [
        {
          "output_type": "stream",
          "name": "stdout",
          "text": [
            "Uniform Random Matrix:\n",
            "[[0.03906306 0.97591156 0.25079874]\n",
            " [0.32044803 0.64633591 0.72724502]\n",
            " [0.15375202 0.043061   0.5408723 ]]\n",
            "\n",
            "Normal Random Matrix:\n",
            "[[ 0.25888822 -0.78384322  0.5513841 ]\n",
            " [-0.73094399 -0.97715387  0.03510352]\n",
            " [-0.5643917   0.81629425  1.85814431]]\n"
          ]
        }
      ]
    },
    {
      "cell_type": "code",
      "source": [
        "# Question: 9. Write code to increase the dimension of the following array?\n",
        "#  [[1, 2, 3, 4]  [5, 6,7, 8],  [9, 10, 11, 12]]\n",
        "\n",
        "arr = np.array([[1, 2, 3, 4], [5, 6, 7, 8], [9, 10, 11, 12]])\n",
        "new_arr = arr.reshape(2, 2, 3)\n",
        "print(new_arr)\n"
      ],
      "metadata": {
        "colab": {
          "base_uri": "https://localhost:8080/"
        },
        "id": "mg1H-nzsGG0B",
        "outputId": "fbd8f187-b1c2-440e-b362-eb999b9d652c"
      },
      "execution_count": 14,
      "outputs": [
        {
          "output_type": "stream",
          "name": "stdout",
          "text": [
            "[[[ 1  2  3]\n",
            "  [ 4  5  6]]\n",
            "\n",
            " [[ 7  8  9]\n",
            "  [10 11 12]]]\n"
          ]
        }
      ]
    },
    {
      "cell_type": "code",
      "source": [
        "# Question: 10. How to transpose the following array in NumPy?  [[1, 2, 3, 4]  [5, 6, 7, 8],  [9, 10, 11, 12]]\n",
        "\n",
        "arr = np.array([[1, 2, 3, 4], [5, 6, 7, 8], [9, 10, 11, 12]])\n",
        "transposed_arr = arr.transpose()\n",
        "print(transposed_arr)\n"
      ],
      "metadata": {
        "colab": {
          "base_uri": "https://localhost:8080/"
        },
        "id": "XbgkXLTNGG2i",
        "outputId": "c146ea7f-29f3-4979-e66e-85d9333f9c86"
      },
      "execution_count": 15,
      "outputs": [
        {
          "output_type": "stream",
          "name": "stdout",
          "text": [
            "[[ 1  5  9]\n",
            " [ 2  6 10]\n",
            " [ 3  7 11]\n",
            " [ 4  8 12]]\n"
          ]
        }
      ]
    },
    {
      "cell_type": "code",
      "source": [
        "# Question: 11. Consider the following matrix:\n",
        "# Matrix A: [[1, 2, 3, 4] [5, 6, 7, 8],[9, 10, 11, 12]]\n",
        "# Matrix B: [[1, 2, 3, 4] [5, 6, 7, 8],[9, 10, 11, 12]]\n",
        "# Perform the following operation using Python\n",
        "# 1. Index wise multiplication\n",
        "# 2. Matrix multiplication\n",
        "# 3. Add both the matrix\n",
        "# 4. Subtract matrix B from A\n",
        "# 5. Divide Matrix B by A\n",
        "\n",
        "A = np.array([[1, 2, 3, 4], [5, 6, 7, 8],[9, 10, 11, 12]])\n",
        "B = np.array([[1, 2, 3, 4], [5, 6, 7, 8],[9, 10, 11, 12]])\n",
        "\n",
        "# Index wise multiplication\n",
        "index_wise_mult = A * B\n",
        "print(\"Index Wise Multiplication:\\n\", index_wise_mult)\n",
        "\n",
        "# Matrix multiplication\n",
        "matrix_mult = np.dot(A, B.T) # Note: B is transposed to make dimensions compatible for matrix multiplication\n",
        "print(\"\\nMatrix Multiplication:\\n\", matrix_mult)\n",
        "\n",
        "# Add both matrices\n",
        "addition = A + B\n",
        "print(\"\\nAddition:\\n\", addition)\n",
        "\n",
        "# Subtract matrix B from A\n",
        "subtraction = A - B\n",
        "print(\"\\nSubtraction:\\n\", subtraction)\n",
        "\n",
        "# Divide Matrix B by A (element-wise)\n",
        "division = B / A\n",
        "print(\"\\nDivision:\\n\", division)\n"
      ],
      "metadata": {
        "colab": {
          "base_uri": "https://localhost:8080/"
        },
        "id": "yYyzIGA3GG5F",
        "outputId": "849e50ae-8d35-49db-bb20-58cc7356feb6"
      },
      "execution_count": 16,
      "outputs": [
        {
          "output_type": "stream",
          "name": "stdout",
          "text": [
            "Index Wise Multiplication:\n",
            " [[  1   4   9  16]\n",
            " [ 25  36  49  64]\n",
            " [ 81 100 121 144]]\n",
            "\n",
            "Matrix Multiplication:\n",
            " [[ 30  70 110]\n",
            " [ 70 174 278]\n",
            " [110 278 446]]\n",
            "\n",
            "Addition:\n",
            " [[ 2  4  6  8]\n",
            " [10 12 14 16]\n",
            " [18 20 22 24]]\n",
            "\n",
            "Subtraction:\n",
            " [[0 0 0 0]\n",
            " [0 0 0 0]\n",
            " [0 0 0 0]]\n",
            "\n",
            "Division:\n",
            " [[1. 1. 1. 1.]\n",
            " [1. 1. 1. 1.]\n",
            " [1. 1. 1. 1.]]\n"
          ]
        }
      ]
    },
    {
      "cell_type": "code",
      "source": [
        "# Question: 12. Which function in Numpy can be used to swap the byte order of an array? give an example\n",
        "\n",
        "# The function in NumPy used to swap the byte order of an array is `np.byteswap`.\n",
        "\n",
        "# Example:\n",
        "arr = np.array([1, 256, 65536], dtype=np.int32)\n",
        "print(\"Original array:\", arr)\n",
        "print(\"Byte order:\", arr.dtype.byteorder)\n",
        "\n",
        "swapped_arr = arr.byteswap()\n",
        "print(\"\\nSwapped array:\", swapped_arr)\n",
        "print(\"Byte order after swapping:\", swapped_arr.dtype.byteorder)\n"
      ],
      "metadata": {
        "colab": {
          "base_uri": "https://localhost:8080/"
        },
        "id": "36Gbm_cdGG73",
        "outputId": "7219f139-5303-4b88-9f26-c0ee17162672"
      },
      "execution_count": 22,
      "outputs": [
        {
          "output_type": "stream",
          "name": "stdout",
          "text": [
            "Original array: [    1   256 65536]\n",
            "Byte order: =\n",
            "\n",
            "Swapped array: [16777216    65536      256]\n",
            "Byte order after swapping: =\n"
          ]
        }
      ]
    },
    {
      "cell_type": "code",
      "source": [
        "# Question: 13. What is the significance of the np.linalg.inv function?\n",
        "\n",
        "import numpy as np\n",
        "\n",
        "# Define a square matrix\n",
        "A = np.array([[1, 2], [3, 4]])\n",
        "\n",
        "# Calculate the inverse of the matrix\n",
        "A_inv = np.linalg.inv(A)\n",
        "\n",
        "print(\"Matrix A:\\n\", A)\n",
        "print(\"\\nInverse of Matrix A:\\n\", A_inv)\n",
        "\n",
        "# Verify the property of inverse matrix\n",
        "identity_matrix = np.dot(A, A_inv)\n",
        "print(\"\\nProduct of A and its inverse:\\n\", identity_matrix)\n"
      ],
      "metadata": {
        "colab": {
          "base_uri": "https://localhost:8080/"
        },
        "id": "AhLVOr_IGG-p",
        "outputId": "eeeb2274-8cab-495b-a7fd-c95c07f54e30"
      },
      "execution_count": 24,
      "outputs": [
        {
          "output_type": "stream",
          "name": "stdout",
          "text": [
            "Matrix A:\n",
            " [[1 2]\n",
            " [3 4]]\n",
            "\n",
            "Inverse of Matrix A:\n",
            " [[-2.   1. ]\n",
            " [ 1.5 -0.5]]\n",
            "\n",
            "Product of A and its inverse:\n",
            " [[1.0000000e+00 0.0000000e+00]\n",
            " [8.8817842e-16 1.0000000e+00]]\n"
          ]
        }
      ]
    },
    {
      "cell_type": "code",
      "source": [
        "# Question: 14. What does the np.reshape function do, and how is it used?\n",
        "\n",
        "# Significance of np.linalg.inv:\n",
        "# Solving Linear Equations: The inverse of a matrix is often used to solve systems of linear equations. If\n",
        "# A×X=B, then 𝑋=𝐴^-1×𝐵\n",
        "\n",
        "# Linear Transformations: Inverse matrices are used in various applications involving linear transformations,\n",
        "# such as computer graphics, data analysis, and engineering.\n",
        "\n",
        "# Matrix Operations: Certain matrix operations, like finding solutions to certain types of equations,\n",
        "# require the use of the inverse matrix.\n",
        "\n",
        "\n",
        "\n",
        "# Example: Reshaping a 1D array to a 2D array\n",
        "arr = np.array([1, 2, 3, 4, 5, 6])\n",
        "new_arr = arr.reshape(2, 3)\n",
        "print(new_arr)\n"
      ],
      "metadata": {
        "colab": {
          "base_uri": "https://localhost:8080/"
        },
        "id": "LMnNAM2nGHBS",
        "outputId": "881dfdc2-b8c1-4ad1-857d-d1bd5d47585e"
      },
      "execution_count": 26,
      "outputs": [
        {
          "output_type": "stream",
          "name": "stdout",
          "text": [
            "[[1 2 3]\n",
            " [4 5 6]]\n"
          ]
        }
      ]
    },
    {
      "cell_type": "code",
      "source": [
        "# Question: 15. What is broadcasting in Numpy?\n",
        "\n",
        "# Answer:\n",
        "# Broadcasting in NumPy is a powerful mechanism that allows operations to be performed\n",
        "# on arrays of different shapes in a way that would not normally be possible.\n",
        "# It automatically expands the smaller array along the missing dimensions so that the shapes\n",
        "# are compatible for element-wise operations, without making unnecessary copies of data.\n",
        "\n",
        "# How Broadcasting Works?\n",
        "# Broadcasting works according to these rules:\n",
        "\n",
        "# Matching Dimensions: When performing operations on two arrays, NumPy compares their\n",
        "# shapes element-wise, starting from the trailing (right-most) dimensions.\n",
        "\n",
        "# Dimension Compatibility:\n",
        "\n",
        "# If the dimensions are equal, they are compatible.\n",
        "# If one of the dimensions is 1, it can be stretched to match the other dimension.\n",
        "# If the dimensions are not equal and neither is 1, an error is raised.\n",
        "# Automatic Expansion: The array with a dimension of 1 is virtually repeated to match\n",
        "# the size of the other array along that dimension, allowing the operation to proceed as if both arrays were of the same shape.\n",
        "\n",
        "\n",
        "\n",
        "\n",
        "\n",
        "import numpy as np\n",
        "\n",
        "a = np.array([1, 2, 3])  # Shape (3,)\n",
        "b = np.array([[4], [5], [6]])  # Shape (3, 1)\n",
        "\n",
        "result = a + b\n",
        "print(result)  # Output: [[5 6 7] [6 7 8] [7 8 9]]\n",
        "\n",
        "\n",
        "# Advantages of Broadcasting:\n",
        "# Memory Efficiency: Broadcasting avoids the need to create large, repeated arrays, leading to more efficient memory usage.\n",
        "# Code Simplicity: It simplifies code by eliminating the need for explicit loops to perform operations on arrays of different shapes."
      ],
      "metadata": {
        "colab": {
          "base_uri": "https://localhost:8080/"
        },
        "id": "hlkLgb3DGHDt",
        "outputId": "4a0ce0b4-7de1-4272-f591-0a2ed47e149c"
      },
      "execution_count": 25,
      "outputs": [
        {
          "output_type": "stream",
          "name": "stdout",
          "text": [
            "[[5 6 7]\n",
            " [6 7 8]\n",
            " [7 8 9]]\n"
          ]
        }
      ]
    },
    {
      "cell_type": "code",
      "source": [],
      "metadata": {
        "id": "wezHlspUGHGG"
      },
      "execution_count": null,
      "outputs": []
    }
  ]
}